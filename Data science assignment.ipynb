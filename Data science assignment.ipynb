{
 "cells": [
  {
   "cell_type": "markdown",
   "id": "4d68b5ee",
   "metadata": {},
   "source": [
    "# My data science assignment submission"
   ]
  },
  {
   "cell_type": "markdown",
   "id": "17f1e022",
   "metadata": {},
   "source": [
    "## Introduction cell"
   ]
  },
  {
   "cell_type": "markdown",
   "id": "f51200fb",
   "metadata": {},
   "source": [
    "### Data science languages:\n",
    "- Python\n",
    "- R\n",
    "- Julia\n",
    "- Weka\n",
    "- C/C++\n",
    "- Java\n",
    "- JavaScript"
   ]
  },
  {
   "cell_type": "markdown",
   "id": "0a990be4",
   "metadata": {},
   "source": [
    "### Data science libraries:\n",
    "- ggplot2\n",
    "- Lattice\n",
    "- NumPy\n",
    "- Pandas\n",
    "- TensorFlow"
   ]
  },
  {
   "cell_type": "markdown",
   "id": "91e66a30",
   "metadata": {},
   "source": [
    "### Data Science tools:\n",
    "- Apache Spark\n",
    "- RStudio\n",
    "- Jupyter Notebook"
   ]
  },
  {
   "cell_type": "markdown",
   "id": "2514ee14",
   "metadata": {},
   "source": [
    "### Some arithmetic expression examples:\n",
    "- Addition\n",
    "- Substraction\n",
    "- Multiplication\n",
    "- Division\n",
    "- Floor Division"
   ]
  },
  {
   "cell_type": "code",
   "execution_count": 11,
   "id": "02abb898",
   "metadata": {},
   "outputs": [
    {
     "name": "stdout",
     "output_type": "stream",
     "text": [
      "Multiply example: 100\n"
     ]
    }
   ],
   "source": [
    "x = 10\n",
    "y = 10\n",
    "\n",
    "print(\"Multiply example:\", x*y)"
   ]
  },
  {
   "cell_type": "code",
   "execution_count": 12,
   "id": "020c497e",
   "metadata": {},
   "outputs": [
    {
     "name": "stdout",
     "output_type": "stream",
     "text": [
      "Addition example: 20\n"
     ]
    }
   ],
   "source": [
    "x = 10\n",
    "y = 10\n",
    "\n",
    "print(\"Addition example:\", x+y)"
   ]
  },
  {
   "cell_type": "code",
   "execution_count": 13,
   "id": "60aa2469",
   "metadata": {},
   "outputs": [
    {
     "name": "stdout",
     "output_type": "stream",
     "text": [
      "240 minutes in hours: 4.0\n"
     ]
    }
   ],
   "source": [
    "minutes = 240\n",
    "hours = minutes/60\n",
    "print(minutes, \"minutes in hours:\", hours)"
   ]
  },
  {
   "cell_type": "markdown",
   "id": "8a98c656",
   "metadata": {},
   "source": [
    "### Objectives\n",
    "- Add markdown cells\n",
    "- List of data science languages, libraries and tools\n",
    "- Do basic arithmetic expressions"
   ]
  },
  {
   "cell_type": "markdown",
   "id": "70e29ce0",
   "metadata": {},
   "source": [
    "### Author:\n",
    "\n",
    "Sergio Ciringione"
   ]
  },
  {
   "cell_type": "code",
   "execution_count": null,
   "id": "66dd61ca",
   "metadata": {},
   "outputs": [],
   "source": []
  }
 ],
 "metadata": {
  "kernelspec": {
   "display_name": "Python 3 (ipykernel)",
   "language": "python",
   "name": "python3"
  },
  "language_info": {
   "codemirror_mode": {
    "name": "ipython",
    "version": 3
   },
   "file_extension": ".py",
   "mimetype": "text/x-python",
   "name": "python",
   "nbconvert_exporter": "python",
   "pygments_lexer": "ipython3",
   "version": "3.11.5"
  }
 },
 "nbformat": 4,
 "nbformat_minor": 5
}
